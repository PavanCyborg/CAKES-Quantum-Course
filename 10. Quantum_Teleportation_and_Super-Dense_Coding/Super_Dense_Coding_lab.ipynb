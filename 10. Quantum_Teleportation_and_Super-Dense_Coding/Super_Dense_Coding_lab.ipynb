{
 "cells": [
  {
   "cell_type": "markdown",
   "id": "24713787-3ebb-4ae9-af38-06b0df400bf7",
   "metadata": {},
   "source": [
    "# Super Dense Coding LAB:"
   ]
  },
  {
   "cell_type": "code",
   "execution_count": 1,
   "id": "6b0ac5de-86a4-416c-941c-b966da141fea",
   "metadata": {},
   "outputs": [],
   "source": [
    "#importing  Qiskit Libraries\n",
    "\n",
    "from qiskit import QuantumCircuit, transpile, QuantumRegister\n",
    "from qiskit.visualization import *"
   ]
  },
  {
   "cell_type": "markdown",
   "id": "4dcf6a72-2b9d-4928-bc42-37b28d0632a9",
   "metadata": {},
   "source": [
    "1. Alice & Bob Share an **EPR** pair (also called as \"Entangled State\").\n",
    "\n",
    "2. Alice & Bob gets *spatially seperated*.\n",
    "\n",
    "3. Now Alice wants to send information of **2x Classical Bits** to bob. So she has 4 possible combinaitions to send [**00**/**01**/**10**/**11**]. Alice can send any one of these combinations.\n",
    "    -  To do this Alice has to perform **4** different Unitary operations on the Entangled Qubit which she is holding with her.\n",
    "    -  Let the Unitary operations are **UT1**, **UT2**, **UT3**, **UT4**.\n",
    "    -  These **4** encoding gives use **4** **orthogonal States** respectively.\n",
    "\n",
    "|Classical bits Alice Wants to send|Gates Applied by Alice on her Qubit| Final State of Bob|\n",
    "|---------|----------|--------|\n",
    "|00|**I**|$\\frac{|00\\rangle+|11\\rangle}{\\sqrt{2}}$|\n",
    "|01|**X**|$\\frac{|10\\rangle+|01\\rangle}{\\sqrt{2}}$|\n",
    "|10|**iY**|$\\frac{|01\\rangle-|10\\rangle}{\\sqrt{2}}$|\n",
    "|11|**Z**|$\\frac{|00\\rangle-|11\\rangle}{\\sqrt{2}}$|\n",
    "\n",
    "Here, Alice uses only one Qubit to transfer information of **2x Classical bits**."
   ]
  },
  {
   "cell_type": "markdown",
   "id": "fb7e6540-c9fd-477b-84fb-dd097cbd90ab",
   "metadata": {},
   "source": [
    "**Step -1 :** First We need to construct a Quantum circuit with 2 Qubits."
   ]
  },
  {
   "cell_type": "code",
   "execution_count": 2,
   "id": "d06817e5-93a4-440e-b806-3a6ef0688d95",
   "metadata": {},
   "outputs": [],
   "source": [
    "# Create separate quantum registers for alice and bob\n",
    "qr_alice = QuantumRegister(1, 'alice')\n",
    "qr_bob = QuantumRegister(1, 'bob')\n",
    "# Create a quantum circuit using these registers\n",
    "qc = QuantumCircuit(qr_alice, qr_bob)\n",
    "msg = \"01\""
   ]
  },
  {
   "cell_type": "code",
   "execution_count": 3,
   "id": "048ab8c3-6322-4209-b668-213f99d5558f",
   "metadata": {},
   "outputs": [
    {
     "name": "stderr",
     "output_type": "stream",
     "text": [
      "/home/cdac/.local/lib/python3.10/site-packages/qiskit/visualization/circuit/matplotlib.py:266: FutureWarning: The default matplotlib drawer scheme will be changed to \"iqp\" in a following release. To silence this warning, specify the current default explicitly as style=\"clifford\", or the new default as style=\"iqp\".\n",
      "  self._style, def_font_ratio = load_style(self._style)\n"
     ]
    },
    {
     "data": {
      "image/png": "[encoded data removed]",
      "text/plain": [
       "<Figure size 193.32x200.667 with 1 Axes>"
      ]
     },
     "execution_count": 3,
     "metadata": {},
     "output_type": "execute_result"
    }
   ],
   "source": [
    "qc.draw(\"mpl\")"
   ]
  },
  {
   "cell_type": "markdown",
   "id": "1a7b8226-a855-4ea4-8189-0aba271105ef",
   "metadata": {},
   "source": [
    "**Step-2 :** Now we need to Entangle the Qubits of both alice and bob. Here entangled state is **Bell State**. We can use a **Hadamard** and **CNOT** gates to create following **Bell state**.\n",
    "$$|\\phi^{+}\\rangle = \\frac{1}{\\sqrt{2}}(|00\\rangle+|11\\rangle)$$"
   ]
  },
  {
   "cell_type": "code",
   "execution_count": 4,
   "id": "b68a4e99-7ba3-4601-b388-50222dd1368f",
   "metadata": {},
   "outputs": [
    {
     "data": {
      "text/plain": [
       "<qiskit.circuit.instructionset.InstructionSet at 0x7d30e413e830>"
      ]
     },
     "execution_count": 4,
     "metadata": {},
     "output_type": "execute_result"
    }
   ],
   "source": [
    "qc.h(0)\n",
    "qc.cx(0,1)\n",
    "qc.barrier()"
   ]
  },
  {
   "cell_type": "code",
   "execution_count": 5,
   "id": "13d61be4-e5f8-489a-b88d-7538ede299c0",
   "metadata": {},
   "outputs": [
    {
     "data": {
      "image/png": "[encoded data removed]",
      "text/plain": [
       "<Figure size 402.348x200.667 with 1 Axes>"
      ]
     },
     "execution_count": 5,
     "metadata": {},
     "output_type": "execute_result"
    }
   ],
   "source": [
    "qc.draw(\"mpl\")"
   ]
  },
  {
   "cell_type": "markdown",
   "id": "aac992fe-f51c-4066-9cf2-846d39b2c188",
   "metadata": {},
   "source": [
    "Now we have created an Entangled state between alice and Bob Qubits. They will be always remain connected to each other regardless of being far away from each other.\n",
    "\n",
    "**Step -3:** Now Alice needs to encode the message to her qubit."
   ]
  },
  {
   "cell_type": "code",
   "execution_count": 6,
   "id": "7db4db9c-c3c0-49bf-b16d-8cb2060f4972",
   "metadata": {},
   "outputs": [],
   "source": [
    "#00 -> I gate or No gate\n",
    "#01 -> X gate\n",
    "#10 -> Z gate\n",
    "#11 -> X & Z gates\n",
    "\n",
    "if msg == \"00\":\n",
    "    qc.id(0)\n",
    "\n",
    "elif msg == \"01\":\n",
    "    qc.x(0)\n",
    "\n",
    "elif msg == \"10\":\n",
    "    qc.z(0)\n",
    "\n",
    "elif msg == \"11\":\n",
    "    qc.x(0)\n",
    "    qc.z(0)\n",
    "\n",
    "else:\n",
    "    print(\"Enter valid message\")"
   ]
  },
  {
   "cell_type": "code",
   "execution_count": 7,
   "id": "0c546bef-3d2e-49e9-b5a2-76480a30b333",
   "metadata": {},
   "outputs": [
    {
     "data": {
      "image/png": "[encoded data removed]",
      "text/plain": [
       "<Figure size 569.57x200.667 with 1 Axes>"
      ]
     },
     "execution_count": 7,
     "metadata": {},
     "output_type": "execute_result"
    }
   ],
   "source": [
    "qc.barrier()\n",
    "qc.draw(\"mpl\")"
   ]
  },
  {
   "cell_type": "markdown",
   "id": "494d4fa1-e8b1-49de-abd7-117d4600886c",
   "metadata": {},
   "source": [
    "Now Alice has encoded the message to her Qubit of **EPR** pair.\n",
    "\n",
    "**Step -4:** Now Alice will send her qubit to the bob classically. And now bob has **2 Qubits** in his possession. To decode the information he need to perform Bell-Basis measurement on both the Qubits. To do that he first need to apply reverse EPR. Initially he need to apply CNOT and next Hadamard and then perform the measurement of both Qubits."
   ]
  },
  {
   "cell_type": "code",
   "execution_count": 8,
   "id": "1be63e03-d319-4690-b2e5-ffac666e8a02",
   "metadata": {},
   "outputs": [],
   "source": [
    "qc.cx(0,1)\n",
    "qc.h(0)\n",
    "qc.measure_all()"
   ]
  },
  {
   "cell_type": "code",
   "execution_count": 9,
   "id": "dc43526a-a7fc-4f75-8996-779361307a8e",
   "metadata": {},
   "outputs": [
    {
     "data": {
      "image/png": "[encoded data removed]",
      "text/plain": [
       "<Figure size 998.442x284.278 with 1 Axes>"
      ]
     },
     "execution_count": 9,
     "metadata": {},
     "output_type": "execute_result"
    }
   ],
   "source": [
    "qc.draw(\"mpl\")"
   ]
  },
  {
   "cell_type": "markdown",
   "id": "a44b2783-be92-42dc-93e6-dc725383edf4",
   "metadata": {},
   "source": [
    "# Execution of Circuit on Simulator :"
   ]
  },
  {
   "cell_type": "code",
   "execution_count": 10,
   "id": "529793d4-4427-47b7-9b74-2c2933108b01",
   "metadata": {},
   "outputs": [],
   "source": [
    "from qiskit_aer import Aer"
   ]
  },
  {
   "cell_type": "code",
   "execution_count": 11,
   "id": "5ef37297-8719-46d8-bac2-564784871c75",
   "metadata": {},
   "outputs": [],
   "source": [
    "backend = Aer.get_backend(\"statevector_simulator\")"
   ]
  },
  {
   "cell_type": "code",
   "execution_count": 12,
   "id": "28844989-d7b9-4d49-acdf-0b4485874c8b",
   "metadata": {},
   "outputs": [
    {
     "name": "stdout",
     "output_type": "stream",
     "text": [
      "{'10': 1000}\n"
     ]
    }
   ],
   "source": [
    "job = backend.run(qc, shots=1000)\n",
    "result = job.result().get_counts()\n",
    "print(result)"
   ]
  },
  {
   "cell_type": "code",
   "execution_count": 13,
   "id": "6c111c4a-2804-4123-a29d-3f914aefdb40",
   "metadata": {},
   "outputs": [
    {
     "data": {
      "image/png": "[encoded data removed]",
      "text/plain": [
       "<Figure size 700x500 with 1 Axes>"
      ]
     },
     "execution_count": 13,
     "metadata": {},
     "output_type": "execute_result"
    }
   ],
   "source": [
    "from qiskit.visualization import plot_histogram\n",
    "\n",
    "plot_histogram(result, title=\"Encoded Message\")"
   ]
  },
  {
   "cell_type": "markdown",
   "id": "52dc7052-48e5-4fc3-9fd2-3a1d820bd618",
   "metadata": {},
   "source": [
    "**Note :** Qiskit result follows **Little Endian** format. In the above result we have got the value of **\"10\"** as answer. But we have given **\"01\"** which is in **big-endian** format. So here we need to consider the result as **01** only. "
   ]
  },
  {
   "cell_type": "code",
   "execution_count": 19,
   "id": "539b775a-0703-47e8-be34-fd7ff035a76b",
   "metadata": {},
   "outputs": [
    {
     "name": "stdout",
     "output_type": "stream",
     "text": [
      "{'00': 1, '01': 3, '10': 991, '11': 5}\n"
     ]
    }
   ],
   "source": [
    "#if there is any noise in the simulator\n",
    "\n",
    "from qiskit_aer.noise import (NoiseModel, QuantumError, ReadoutError,pauli_error, depolarizing_error, thermal_relaxation_error,reset_error)\n",
    "# Create an empty noise model\n",
    "noise_parameters = NoiseModel()\n",
    "\n",
    "depol_one_qb_error = 0.05\n",
    "depol_two_qb_error = 0.005\n",
    "noise_parameters.add_all_qubit_quantum_error(depolarizing_error(depol_one_qb_error, 1), ['rx', 'ry', 'rz'])\n",
    "noise_parameters.add_all_qubit_quantum_error(depolarizing_error(depol_two_qb_error, 2), ['cx'])\n",
    "\n",
    "# Add reset noise to all single qubit resets\n",
    "reset_to_zero_error = 0.005\n",
    "reset_to_one_error = 0.005\n",
    "noise_parameters.add_all_qubit_quantum_error(reset_error(reset_to_zero_error, reset_to_one_error),[\"reset\"])\n",
    "\n",
    "job_N = backend.run(qc, noise_model=noise_parameters,shots=1000)\n",
    "result_N = job_N.result().get_counts()\n",
    "print(result_N)"
   ]
  }
 ],
 "metadata": {
  "kernelspec": {
   "display_name": "Python 3 (ipykernel)",
   "language": "python",
   "name": "python3"
  },
  "language_info": {
   "codemirror_mode": {
    "name": "ipython",
    "version": 3
   },
   "file_extension": ".py",
   "mimetype": "text/x-python",
   "name": "python",
   "nbconvert_exporter": "python",
   "pygments_lexer": "ipython3",
   "version": "3.10.4"
  }
 },
 "nbformat": 4,
 "nbformat_minor": 5
}
